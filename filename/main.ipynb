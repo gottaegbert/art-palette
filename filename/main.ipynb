{
 "cells": [
  {
   "cell_type": "code",
   "execution_count": 17,
   "metadata": {},
   "outputs": [],
   "source": [
    "import os\n",
    "\n",
    "# Define the directory you want to export file paths from\n",
    "main_dir = './public/'\n",
    "\n",
    "# Define the subdirectories you want to include\n",
    "sub_dirs = ['ct', 'wt', 'zt']\n",
    "\n",
    "# Create a list to store the file paths\n",
    "file_paths = []\n",
    "\n",
    "# Loop through each subdirectory and append the file paths to the list\n",
    "for sub_dir in sub_dirs:\n",
    "    dir_path = os.path.join(main_dir, sub_dir)\n",
    "    for root, directories, files in os.walk(dir_path):\n",
    "        for filename in files:\n",
    "            if filename != '.DS_Store':  # Exclude .DS_Store files\n",
    "                file_path = os.path.join(root, filename)\n",
    "                file_paths.append(file_path)\n",
    "\n",
    "# Write the file paths to a text file\n",
    "with open('file_paths.txt', 'w') as f:\n",
    "    for file_path in file_paths:\n",
    "        f.write(\"'\"+file_path+\"',\" + '\\n')"
   ]
  }
 ],
 "metadata": {
  "kernelspec": {
   "display_name": "scraping",
   "language": "python",
   "name": "python3"
  },
  "language_info": {
   "codemirror_mode": {
    "name": "ipython",
    "version": 3
   },
   "file_extension": ".py",
   "mimetype": "text/x-python",
   "name": "python",
   "nbconvert_exporter": "python",
   "pygments_lexer": "ipython3",
   "version": "3.9.7"
  },
  "orig_nbformat": 4
 },
 "nbformat": 4,
 "nbformat_minor": 2
}
